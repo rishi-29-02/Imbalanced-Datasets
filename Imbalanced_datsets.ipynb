{
  "nbformat": 4,
  "nbformat_minor": 0,
  "metadata": {
    "colab": {
      "name": "Imbalanced datsets.ipynb",
      "provenance": [],
      "authorship_tag": "ABX9TyPKStlJdgzUzaZarpzc1ZnH",
      "include_colab_link": true
    },
    "kernelspec": {
      "name": "python3",
      "display_name": "Python 3"
    },
    "language_info": {
      "name": "python"
    }
  },
  "cells": [
    {
      "cell_type": "markdown",
      "metadata": {
        "id": "view-in-github",
        "colab_type": "text"
      },
      "source": [
        "<a href=\"https://colab.research.google.com/github/rishi-29-02/Imbalanced-Datasets/blob/main/Imbalanced_datsets.ipynb\" target=\"_parent\"><img src=\"https://colab.research.google.com/assets/colab-badge.svg\" alt=\"Open In Colab\"/></a>"
      ]
    },
    {
      "cell_type": "markdown",
      "metadata": {
        "id": "7TM_Zi3VYf4q"
      },
      "source": [
        "# How to Handle imbalanced datasets"
      ]
    },
    {
      "cell_type": "markdown",
      "metadata": {
        "id": "rRsX985IYmcn"
      },
      "source": [
        "#Random Upsampling(Oversampling) the imbalanced datsets"
      ]
    },
    {
      "cell_type": "code",
      "metadata": {
        "id": "Vtzayl1fY3-1"
      },
      "source": [
        "from collections import Counter\n",
        "from sklearn.datasets import make_classification\n",
        "from imblearn.over_sampling import RandomOverSampler\n",
        "\n",
        "import warnings\n",
        "warnings.filterwarnings('ignore')"
      ],
      "execution_count": 28,
      "outputs": []
    },
    {
      "cell_type": "code",
      "metadata": {
        "id": "psWDkLEeZpFN"
      },
      "source": [
        "# define datasets\n",
        "X, y = make_classification(n_samples=10000, weights=[0.99], flip_y=0)"
      ],
      "execution_count": 29,
      "outputs": []
    },
    {
      "cell_type": "code",
      "metadata": {
        "colab": {
          "base_uri": "https://localhost:8080/"
        },
        "id": "zSYcXckNasYQ",
        "outputId": "ba10480c-4861-49c5-a192-748f0d9dca8a"
      },
      "source": [
        "Counter(y)"
      ],
      "execution_count": 30,
      "outputs": [
        {
          "output_type": "execute_result",
          "data": {
            "text/plain": [
              "Counter({0: 9900, 1: 100})"
            ]
          },
          "metadata": {
            "tags": []
          },
          "execution_count": 30
        }
      ]
    },
    {
      "cell_type": "code",
      "metadata": {
        "id": "QFn6AxBkaxKC"
      },
      "source": [
        "# define the sampling startegy\n",
        "oversample = RandomOverSampler(sampling_strategy='minority')"
      ],
      "execution_count": 31,
      "outputs": []
    },
    {
      "cell_type": "code",
      "metadata": {
        "id": "0l4upPtUcAfz"
      },
      "source": [
        "# fit and apply the oversampling strategy\n",
        "X_over, y_over = oversample.fit_resample(X, y)"
      ],
      "execution_count": 32,
      "outputs": []
    },
    {
      "cell_type": "code",
      "metadata": {
        "colab": {
          "base_uri": "https://localhost:8080/"
        },
        "id": "FONtO7jTcaR3",
        "outputId": "c3e0fc32-dc58-44e3-c51a-c1c8f9135a2c"
      },
      "source": [
        "Counter(y_over)"
      ],
      "execution_count": 33,
      "outputs": [
        {
          "output_type": "execute_result",
          "data": {
            "text/plain": [
              "Counter({0: 9900, 1: 9900})"
            ]
          },
          "metadata": {
            "tags": []
          },
          "execution_count": 33
        }
      ]
    },
    {
      "cell_type": "markdown",
      "metadata": {
        "id": "JXurDK0qclcs"
      },
      "source": [
        "#Random UnderSampling the datasets"
      ]
    },
    {
      "cell_type": "code",
      "metadata": {
        "id": "LBFWzlxWc8w9"
      },
      "source": [
        "from collections import Counter\n",
        "from sklearn.datasets import make_classification\n",
        "from imblearn.under_sampling import RandomUnderSampler"
      ],
      "execution_count": 35,
      "outputs": []
    },
    {
      "cell_type": "code",
      "metadata": {
        "id": "FavagTRbdMtg"
      },
      "source": [
        "# define the datsets    \n",
        "X, y = make_classification(n_samples=10000, weights=[0.99], flip_y = 0)"
      ],
      "execution_count": 36,
      "outputs": []
    },
    {
      "cell_type": "code",
      "metadata": {
        "colab": {
          "base_uri": "https://localhost:8080/"
        },
        "id": "maOfrrjCdgfz",
        "outputId": "6e384da5-6cbf-44aa-a18b-753f9d4d455f"
      },
      "source": [
        "Counter(y)"
      ],
      "execution_count": 37,
      "outputs": [
        {
          "output_type": "execute_result",
          "data": {
            "text/plain": [
              "Counter({0: 9900, 1: 100})"
            ]
          },
          "metadata": {
            "tags": []
          },
          "execution_count": 37
        }
      ]
    },
    {
      "cell_type": "code",
      "metadata": {
        "id": "atQt-vCxdh_R"
      },
      "source": [
        "# define the sampling strategy\n",
        "undersample = RandomUnderSampler(sampling_strategy='majority')"
      ],
      "execution_count": 38,
      "outputs": []
    },
    {
      "cell_type": "code",
      "metadata": {
        "id": "8uLZNV_ddw-K"
      },
      "source": [
        "# applying the sampling strategy\n",
        "X_under, y_under = undersample.fit_resample(X, y)"
      ],
      "execution_count": 39,
      "outputs": []
    },
    {
      "cell_type": "code",
      "metadata": {
        "colab": {
          "base_uri": "https://localhost:8080/"
        },
        "id": "KMc8_FJPd991",
        "outputId": "7f231172-4467-4760-a14f-b341b0b8f547"
      },
      "source": [
        "Counter(y_under)"
      ],
      "execution_count": 40,
      "outputs": [
        {
          "output_type": "execute_result",
          "data": {
            "text/plain": [
              "Counter({0: 100, 1: 100})"
            ]
          },
          "metadata": {
            "tags": []
          },
          "execution_count": 40
        }
      ]
    }
  ]
}